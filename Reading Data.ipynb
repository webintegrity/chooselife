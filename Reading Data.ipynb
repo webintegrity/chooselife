{
 "cells": [
  {
   "cell_type": "code",
   "execution_count": 1,
   "metadata": {
    "collapsed": true
   },
   "outputs": [],
   "source": [
    "import pandas as pd;\n",
    "import numpy as np;\n",
    "import savReaderWriter as spss\n",
    "\n",
    "\n",
    "# csvFile = r\"/home/assaf/Hackathon/Data/wls_wide.csv\";\n",
    "csvFile = r\"/home/assaf/Hackathon/Data/wls_wide_sample.csv\";\n",
    "savFile = r\"/home/assaf/Hackathon/Data/wls_b_13_06.sav\";\n",
    "#columnsFile = r\"/home/assaf/Hackathon/chooselife/Winsconsin_long_3000.csv\";\n",
    "columnsFile = r\"/home/assaf/Hackathon/chooselife/Wisconsin_3000_column_names.csv\";\n",
    "\n",
    "myColumns = pd.read_csv(columnsFile,low_memory=False);\n"
   ]
  },
  {
   "cell_type": "code",
   "execution_count": 2,
   "metadata": {
    "collapsed": true
   },
   "outputs": [],
   "source": [
    "#wisconsin.head"
   ]
  },
  {
   "cell_type": "code",
   "execution_count": 3,
   "metadata": {
    "collapsed": true
   },
   "outputs": [],
   "source": [
    "#list(wisconsin.columns.values)"
   ]
  },
  {
   "cell_type": "code",
   "execution_count": 4,
   "metadata": {
    "collapsed": true
   },
   "outputs": [],
   "source": [
    "raw_data = spss.SavReader(savFile, returnHeader = True) # This is fast\n",
    "raw_data_list = list(raw_data) # this is slow\n",
    "data = pd.DataFrame(raw_data_list) # this is slow\n"
   ]
  },
  {
   "cell_type": "code",
   "execution_count": null,
   "metadata": {
    "collapsed": true
   },
   "outputs": [],
   "source": [
    "data = data.rename(columns=data.loc[0]).iloc[1:] # setting columnheaders, this is slow too.\n"
   ]
  },
  {
   "cell_type": "code",
   "execution_count": null,
   "metadata": {},
   "outputs": [],
   "source": [
    "print(data.columns.size)"
   ]
  },
  {
   "cell_type": "code",
   "execution_count": null,
   "metadata": {
    "collapsed": true
   },
   "outputs": [],
   "source": [
    "columns_dic = dict(  [(x.decode(),x) for x in data.columns.values]);"
   ]
  },
  {
   "cell_type": "code",
   "execution_count": null,
   "metadata": {
    "collapsed": true
   },
   "outputs": [],
   "source": [
    "#print(','.join(x.decode() for x in data.columns.values))\n"
   ]
  },
  {
   "cell_type": "code",
   "execution_count": null,
   "metadata": {
    "collapsed": true
   },
   "outputs": [],
   "source": [
    "#data[1:2]\n"
   ]
  },
  {
   "cell_type": "markdown",
   "metadata": {},
   "source": [
    "list(myColumns.values)"
   ]
  },
  {
   "cell_type": "code",
   "execution_count": null,
   "metadata": {},
   "outputs": [],
   "source": [
    "list(myColumns.values)"
   ]
  },
  {
   "cell_type": "code",
   "execution_count": null,
   "metadata": {
    "collapsed": true
   },
   "outputs": [],
   "source": [
    "\n",
    "\n",
    "columnNamesFixed = [columnName[0].replace(\"z_\",\"\") for columnName in list(myColumns.values)]\n",
    "filteredColumns = [columns_dic[columnName] for columnName in columnNamesFixed if (columnName in columns_dic)]\n",
    "\n",
    "\n",
    "    "
   ]
  },
  {
   "cell_type": "code",
   "execution_count": null,
   "metadata": {
    "collapsed": true
   },
   "outputs": [],
   "source": [
    "columnsToDelete = list( set(data.columns.values) - set(filteredColumns))\n",
    "data.drop(columnsToDelete,  inplace=True, axis=1);"
   ]
  },
  {
   "cell_type": "code",
   "execution_count": null,
   "metadata": {},
   "outputs": [],
   "source": [
    "len(data.columns)\n"
   ]
  },
  {
   "cell_type": "code",
   "execution_count": null,
   "metadata": {
    "collapsed": true
   },
   "outputs": [],
   "source": [
    "data.to_csv(r\"/home/assaf/Hackathon/chooselife/Wisconsin_Filtered.csv\")\n"
   ]
  },
  {
   "cell_type": "code",
   "execution_count": null,
   "metadata": {
    "collapsed": true
   },
   "outputs": [],
   "source": [
    " data.to_pickle(r\"/home/assaf/Hackathon/chooselife/Wisconsin_Filtered.pickle\");"
   ]
  },
  {
   "cell_type": "code",
   "execution_count": null,
   "metadata": {
    "collapsed": true
   },
   "outputs": [],
   "source": []
  }
 ],
 "metadata": {
  "kernelspec": {
   "display_name": "Python 3",
   "language": "python",
   "name": "python3"
  },
  "language_info": {
   "codemirror_mode": {
    "name": "ipython",
    "version": 3
   },
   "file_extension": ".py",
   "mimetype": "text/x-python",
   "name": "python",
   "nbconvert_exporter": "python",
   "pygments_lexer": "ipython3",
   "version": "3.6.2"
  }
 },
 "nbformat": 4,
 "nbformat_minor": 2
}
